{
 "cells": [
  {
   "cell_type": "markdown",
   "id": "unauthorized-platinum",
   "metadata": {},
   "source": [
    "A vizualization comparision of a number of Water Dams, their attributes and outputs. "
   ]
  },
  {
   "cell_type": "code",
   "execution_count": 8,
   "id": "joined-lawyer",
   "metadata": {},
   "outputs": [],
   "source": [
    "import numpy as np\n",
    "import pandas as pd\n",
    "#%matplotlib inline\n",
    "import random\n",
    "import matplotlib.pyplot as plt\n",
    "import seaborn as sns\n"
   ]
  },
  {
   "cell_type": "code",
   "execution_count": 9,
   "id": "curious-sponsorship",
   "metadata": {},
   "outputs": [],
   "source": [
    "df=pd.read_csv('DamData.csv')"
   ]
  },
  {
   "cell_type": "code",
   "execution_count": 20,
   "id": "large-beads",
   "metadata": {},
   "outputs": [
    {
     "data": {
      "text/html": [
       "<div>\n",
       "<style scoped>\n",
       "    .dataframe tbody tr th:only-of-type {\n",
       "        vertical-align: middle;\n",
       "    }\n",
       "\n",
       "    .dataframe tbody tr th {\n",
       "        vertical-align: top;\n",
       "    }\n",
       "\n",
       "    .dataframe thead th {\n",
       "        text-align: right;\n",
       "    }\n",
       "</style>\n",
       "<table border=\"1\" class=\"dataframe\">\n",
       "  <thead>\n",
       "    <tr style=\"text-align: right;\">\n",
       "      <th></th>\n",
       "      <th>Name</th>\n",
       "      <th>type</th>\n",
       "      <th>height</th>\n",
       "      <th>length</th>\n",
       "      <th>width_crest</th>\n",
       "      <th>width_base</th>\n",
       "      <th>dam_volume</th>\n",
       "      <th>spillways</th>\n",
       "      <th>spillway_cap</th>\n",
       "      <th>capacity</th>\n",
       "      <th>catchment</th>\n",
       "      <th>surface</th>\n",
       "      <th>depth</th>\n",
       "      <th>hydrolic_head</th>\n",
       "      <th>power_cap</th>\n",
       "      <th>power_generation</th>\n",
       "      <th>unit_dam_volume</th>\n",
       "    </tr>\n",
       "  </thead>\n",
       "  <tbody>\n",
       "    <tr>\n",
       "      <th>0</th>\n",
       "      <td>Shasta</td>\n",
       "      <td>Concrete Gravity</td>\n",
       "      <td>183.0</td>\n",
       "      <td>1050.0</td>\n",
       "      <td>9.1</td>\n",
       "      <td>166.0</td>\n",
       "      <td>49960000.0</td>\n",
       "      <td>1</td>\n",
       "      <td>7580.0</td>\n",
       "      <td>5.620000e+12</td>\n",
       "      <td>17260.0</td>\n",
       "      <td>12040.0</td>\n",
       "      <td>159.3</td>\n",
       "      <td>100.0</td>\n",
       "      <td>6.760000e+08</td>\n",
       "      <td>1.940000e+12</td>\n",
       "      <td>47580.952381</td>\n",
       "    </tr>\n",
       "    <tr>\n",
       "      <th>1</th>\n",
       "      <td>ThreeGorges</td>\n",
       "      <td>Gravity</td>\n",
       "      <td>181.0</td>\n",
       "      <td>2335.0</td>\n",
       "      <td>40.0</td>\n",
       "      <td>115.0</td>\n",
       "      <td>27200000.0</td>\n",
       "      <td>1</td>\n",
       "      <td>116000.0</td>\n",
       "      <td>3.930000e+13</td>\n",
       "      <td>1000000.0</td>\n",
       "      <td>108400.0</td>\n",
       "      <td>175.0</td>\n",
       "      <td>100.0</td>\n",
       "      <td>2.250000e+10</td>\n",
       "      <td>1.020000e+14</td>\n",
       "      <td>11648.822270</td>\n",
       "    </tr>\n",
       "    <tr>\n",
       "      <th>2</th>\n",
       "      <td>Oroville</td>\n",
       "      <td>Earthfill</td>\n",
       "      <td>235.0</td>\n",
       "      <td>2109.0</td>\n",
       "      <td>NaN</td>\n",
       "      <td>NaN</td>\n",
       "      <td>59344000.0</td>\n",
       "      <td>1</td>\n",
       "      <td>4200.0</td>\n",
       "      <td>4.360000e+11</td>\n",
       "      <td>9340.0</td>\n",
       "      <td>6396.0</td>\n",
       "      <td>275.0</td>\n",
       "      <td>187.0</td>\n",
       "      <td>8.190000e+08</td>\n",
       "      <td>1.630000e+12</td>\n",
       "      <td>28138.454244</td>\n",
       "    </tr>\n",
       "    <tr>\n",
       "      <th>3</th>\n",
       "      <td>Hoover</td>\n",
       "      <td>Gravity</td>\n",
       "      <td>221.4</td>\n",
       "      <td>379.0</td>\n",
       "      <td>14.0</td>\n",
       "      <td>200.0</td>\n",
       "      <td>2480000.0</td>\n",
       "      <td>2</td>\n",
       "      <td>11000.0</td>\n",
       "      <td>3.520000e+13</td>\n",
       "      <td>435000.0</td>\n",
       "      <td>64000.0</td>\n",
       "      <td>180.0</td>\n",
       "      <td>180.0</td>\n",
       "      <td>2.080000e+09</td>\n",
       "      <td>4.200000e+12</td>\n",
       "      <td>6543.535620</td>\n",
       "    </tr>\n",
       "    <tr>\n",
       "      <th>4</th>\n",
       "      <td>Ardnacrusha</td>\n",
       "      <td>Dam</td>\n",
       "      <td>NaN</td>\n",
       "      <td>100.0</td>\n",
       "      <td>NaN</td>\n",
       "      <td>NaN</td>\n",
       "      <td>NaN</td>\n",
       "      <td>1</td>\n",
       "      <td>NaN</td>\n",
       "      <td>NaN</td>\n",
       "      <td>NaN</td>\n",
       "      <td>NaN</td>\n",
       "      <td>NaN</td>\n",
       "      <td>33.0</td>\n",
       "      <td>8.600000e+07</td>\n",
       "      <td>3.320000e+11</td>\n",
       "      <td>NaN</td>\n",
       "    </tr>\n",
       "    <tr>\n",
       "      <th>5</th>\n",
       "      <td>Inniscarra</td>\n",
       "      <td>Butress</td>\n",
       "      <td>48.0</td>\n",
       "      <td>247.0</td>\n",
       "      <td>NaN</td>\n",
       "      <td>NaN</td>\n",
       "      <td>NaN</td>\n",
       "      <td>1</td>\n",
       "      <td>NaN</td>\n",
       "      <td>NaN</td>\n",
       "      <td>NaN</td>\n",
       "      <td>NaN</td>\n",
       "      <td>NaN</td>\n",
       "      <td>NaN</td>\n",
       "      <td>1.900000e+07</td>\n",
       "      <td>NaN</td>\n",
       "      <td>NaN</td>\n",
       "    </tr>\n",
       "    <tr>\n",
       "      <th>6</th>\n",
       "      <td>Poulaphouca</td>\n",
       "      <td>Reservoir</td>\n",
       "      <td>NaN</td>\n",
       "      <td>NaN</td>\n",
       "      <td>NaN</td>\n",
       "      <td>NaN</td>\n",
       "      <td>NaN</td>\n",
       "      <td>1</td>\n",
       "      <td>NaN</td>\n",
       "      <td>1.480000e+08</td>\n",
       "      <td>NaN</td>\n",
       "      <td>2226.0</td>\n",
       "      <td>NaN</td>\n",
       "      <td>50.5</td>\n",
       "      <td>3.000000e+07</td>\n",
       "      <td>NaN</td>\n",
       "      <td>NaN</td>\n",
       "    </tr>\n",
       "  </tbody>\n",
       "</table>\n",
       "</div>"
      ],
      "text/plain": [
       "          Name              type  height  length  width_crest  width_base  \\\n",
       "0       Shasta  Concrete Gravity   183.0  1050.0          9.1       166.0   \n",
       "1  ThreeGorges           Gravity   181.0  2335.0         40.0       115.0   \n",
       "2     Oroville         Earthfill   235.0  2109.0          NaN         NaN   \n",
       "3       Hoover           Gravity   221.4   379.0         14.0       200.0   \n",
       "4  Ardnacrusha               Dam     NaN   100.0          NaN         NaN   \n",
       "5   Inniscarra           Butress    48.0   247.0          NaN         NaN   \n",
       "6  Poulaphouca         Reservoir     NaN     NaN          NaN         NaN   \n",
       "\n",
       "   dam_volume  spillways  spillway_cap      capacity  catchment   surface  \\\n",
       "0  49960000.0          1        7580.0  5.620000e+12    17260.0   12040.0   \n",
       "1  27200000.0          1      116000.0  3.930000e+13  1000000.0  108400.0   \n",
       "2  59344000.0          1        4200.0  4.360000e+11     9340.0    6396.0   \n",
       "3   2480000.0          2       11000.0  3.520000e+13   435000.0   64000.0   \n",
       "4         NaN          1           NaN           NaN        NaN       NaN   \n",
       "5         NaN          1           NaN           NaN        NaN       NaN   \n",
       "6         NaN          1           NaN  1.480000e+08        NaN    2226.0   \n",
       "\n",
       "   depth  hydrolic_head     power_cap  power_generation  unit_dam_volume  \n",
       "0  159.3          100.0  6.760000e+08      1.940000e+12     47580.952381  \n",
       "1  175.0          100.0  2.250000e+10      1.020000e+14     11648.822270  \n",
       "2  275.0          187.0  8.190000e+08      1.630000e+12     28138.454244  \n",
       "3  180.0          180.0  2.080000e+09      4.200000e+12      6543.535620  \n",
       "4    NaN           33.0  8.600000e+07      3.320000e+11              NaN  \n",
       "5    NaN            NaN  1.900000e+07               NaN              NaN  \n",
       "6    NaN           50.5  3.000000e+07               NaN              NaN  "
      ]
     },
     "execution_count": 20,
     "metadata": {},
     "output_type": "execute_result"
    }
   ],
   "source": [
    "df"
   ]
  },
  {
   "cell_type": "code",
   "execution_count": 14,
   "id": "becoming-cheese",
   "metadata": {},
   "outputs": [],
   "source": [
    "df['unit_dam_volume'] = df['dam_volume']/df['length']"
   ]
  },
  {
   "cell_type": "code",
   "execution_count": 18,
   "id": "binary-potato",
   "metadata": {},
   "outputs": [
    {
     "data": {
      "text/plain": [
       "<seaborn.axisgrid.FacetGrid at 0x7fd169b40880>"
      ]
     },
     "execution_count": 18,
     "metadata": {},
     "output_type": "execute_result"
    },
    {
     "data": {
      "image/png": "[encoded data removed]",
      "text/plain": [
       "<Figure size 460x360 with 1 Axes>"
      ]
     },
     "metadata": {
      "needs_background": "light"
     },
     "output_type": "display_data"
    }
   ],
   "source": [
    "sns.lmplot(x='catchment', y='surface',hue=\"Name\", data=df, fit_reg=False).set(title='Capicity versus Surface Area')"
   ]
  },
  {
   "cell_type": "code",
   "execution_count": 29,
   "id": "amber-plaintiff",
   "metadata": {},
   "outputs": [
    {
     "data": {
      "text/plain": [
       "<seaborn.axisgrid.FacetGrid at 0x7fd16b459640>"
      ]
     },
     "execution_count": 29,
     "metadata": {},
     "output_type": "execute_result"
    },
    {
     "data": {
      "image/png": "[encoded data removed]",
      "text/plain": [
       "<Figure size 460x360 with 1 Axes>"
      ]
     },
     "metadata": {
      "needs_background": "light"
     },
     "output_type": "display_data"
    }
   ],
   "source": [
    "sns.relplot(x='unit_dam_volume', y='capacity',hue=\"Name\", data=df).set(title='Unit Dam Vol versus Capacity')"
   ]
  },
  {
   "cell_type": "code",
   "execution_count": 26,
   "id": "indie-renewal",
   "metadata": {},
   "outputs": [
    {
     "data": {
      "text/plain": [
       "<seaborn.axisgrid.FacetGrid at 0x7fd16bb7ce20>"
      ]
     },
     "execution_count": 26,
     "metadata": {},
     "output_type": "execute_result"
    },
    {
     "data": {
      "image/png": "[encoded data removed]",
      "text/plain": [
       "<Figure size 460x360 with 1 Axes>"
      ]
     },
     "metadata": {
      "needs_background": "light"
     },
     "output_type": "display_data"
    }
   ],
   "source": [
    "sns.lmplot(x='power_cap', y='power_generation',hue=\"Name\", data=df).set(title='power capacity (Watts) versus power generation (WattHour)')"
   ]
  },
  {
   "cell_type": "code",
   "execution_count": 27,
   "id": "automated-recruitment",
   "metadata": {},
   "outputs": [
    {
     "data": {
      "text/plain": [
       "<seaborn.axisgrid.FacetGrid at 0x7fd16bbddca0>"
      ]
     },
     "execution_count": 27,
     "metadata": {},
     "output_type": "execute_result"
    },
    {
     "data": {
      "image/png": "[encoded data removed]",
      "text/plain": [
       "<Figure size 460x360 with 1 Axes>"
      ]
     },
     "metadata": {
      "needs_background": "light"
     },
     "output_type": "display_data"
    }
   ],
   "source": [
    "sns.relplot(x='length', y='height',hue=\"Name\", data=df).set(title='dam length versus dam height')"
   ]
  },
  {
   "cell_type": "code",
   "execution_count": null,
   "id": "constant-catering",
   "metadata": {},
   "outputs": [],
   "source": []
  }
 ],
 "metadata": {
  "kernelspec": {
   "display_name": "Python 3",
   "language": "python",
   "name": "python3"
  },
  "language_info": {
   "codemirror_mode": {
    "name": "ipython",
    "version": 3
   },
   "file_extension": ".py",
   "mimetype": "text/x-python",
   "name": "python",
   "nbconvert_exporter": "python",
   "pygments_lexer": "ipython3",
   "version": "3.8.5"
  }
 },
 "nbformat": 4,
 "nbformat_minor": 5
}
